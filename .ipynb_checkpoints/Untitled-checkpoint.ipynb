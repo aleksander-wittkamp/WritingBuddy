{
 "cells": [
  {
   "cell_type": "code",
   "execution_count": 1,
   "id": "4df61352-a903-4878-a960-2c89fa422822",
   "metadata": {},
   "outputs": [],
   "source": [
    "from TextManager import TextManager"
   ]
  },
  {
   "cell_type": "code",
   "execution_count": 2,
   "id": "9648b4d9-a2e3-48bb-8424-279221183ec2",
   "metadata": {},
   "outputs": [],
   "source": [
    "sample = TextManager(\"pride_and_prejudice.txt\")"
   ]
  },
  {
   "cell_type": "code",
   "execution_count": 3,
   "id": "c7f3acd6-dd6e-4c9a-972c-26e51521b1c1",
   "metadata": {},
   "outputs": [
    {
     "name": "stdout",
     "output_type": "stream",
     "text": [
      "Reading level: High school freshman\n",
      "Word count: 137747\n",
      "Dialogue proportion: 0.47007194349060233\n",
      "Vocabulary size: 5020\n",
      "Common words and their frequency: [('I', 2509), ('Elizabeth', 634), ('say', 609), ('will', 423), ('Darcy', 415)]\n",
      "        \n"
     ]
    }
   ],
   "source": [
    "sample.print_summary_stats()"
   ]
  }
 ],
 "metadata": {
  "kernelspec": {
   "display_name": "nlp",
   "language": "python",
   "name": "nlp"
  },
  "language_info": {
   "codemirror_mode": {
    "name": "ipython",
    "version": 3
   },
   "file_extension": ".py",
   "mimetype": "text/x-python",
   "name": "python",
   "nbconvert_exporter": "python",
   "pygments_lexer": "ipython3",
   "version": "3.7.10"
  }
 },
 "nbformat": 4,
 "nbformat_minor": 5
}
